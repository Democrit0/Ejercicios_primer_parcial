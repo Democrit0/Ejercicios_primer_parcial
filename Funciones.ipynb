{
  "nbformat": 4,
  "nbformat_minor": 0,
  "metadata": {
    "colab": {
      "name": "Funciones.ipynb",
      "provenance": [],
      "collapsed_sections": [],
      "toc_visible": true,
      "authorship_tag": "ABX9TyM15Ipt+smysiBNfUtBfMvN",
      "include_colab_link": true
    },
    "kernelspec": {
      "name": "python3",
      "display_name": "Python 3"
    }
  },
  "cells": [
    {
      "cell_type": "markdown",
      "metadata": {
        "id": "view-in-github",
        "colab_type": "text"
      },
      "source": [
        "<a href=\"https://colab.research.google.com/github/Democrit0/Ejercicios_primer_parcial/blob/main/Funciones.ipynb\" target=\"_parent\"><img src=\"https://colab.research.google.com/assets/colab-badge.svg\" alt=\"Open In Colab\"/></a>"
      ]
    },
    {
      "cell_type": "markdown",
      "metadata": {
        "id": "hfF4smtzglia"
      },
      "source": [
        "# Funciones\n",
        "\n",
        "**Mensaje**\n",
        "\n",
        "* Escriba una función llamanda $\\verb|display_message()|$ que imprima en la pantalla un mensaje que indique los temas que se han visto hasta el momento.\n",
        "\n"
      ]
    },
    {
      "cell_type": "code",
      "metadata": {
        "id": "0TwZIL8-gbvl",
        "outputId": "f703f8f8-4594-404d-91a4-04b7b82611ff",
        "colab": {
          "base_uri": "https://localhost:8080/",
          "height": 51
        }
      },
      "source": [
        "def display_message(temas):\n",
        "  print(temas.title())\n",
        "\n",
        "display_message(\"Definiendo una funcion\")  \n",
        "display_message(\"Pasando informacion a la funcion\")"
      ],
      "execution_count": null,
      "outputs": [
        {
          "output_type": "stream",
          "text": [
            "Definiendo Una Funcion\n",
            "Pasando Informacion A La Funcion\n"
          ],
          "name": "stdout"
        }
      ]
    },
    {
      "cell_type": "markdown",
      "metadata": {
        "id": "1HX3h0lshFJV"
      },
      "source": [
        "\n",
        "**Libro Favorito**\n",
        "\n",
        "* Escriba una función que se llame $\\verb|libro_favorito()|$ que acepte un parámetro llamado $\\verb|titulo|$ y que despligue en la terminal Tu libro favorito es (nombre del libro)"
      ]
    },
    {
      "cell_type": "code",
      "metadata": {
        "id": "RaogUeA_hn7k",
        "outputId": "d428cfeb-957f-4fd4-bc0b-19897a7621dc",
        "colab": {
          "base_uri": "https://localhost:8080/",
          "height": 34
        }
      },
      "source": [
        "def libro_favorito(titulo):\n",
        "  print(\"Tu libro favorito es: \" + titulo.title())\n",
        "\n",
        "libro_favorito(\"El problema de los 3 cuerpos\")\n"
      ],
      "execution_count": null,
      "outputs": [
        {
          "output_type": "stream",
          "text": [
            "Tu libro favorito es: El Problema De Los 3 Cuerpos\n"
          ],
          "name": "stdout"
        }
      ]
    },
    {
      "cell_type": "markdown",
      "metadata": {
        "id": "9lkjgRVQiCZ4"
      },
      "source": [
        "**Playera**\n",
        "\n",
        "* Escriba una función llamada $\\verb|hacerPlayera()|$ que acepte como argumento, el tamaño y un texto que apararecerá cerigrafeado en la playera. La función deberá imprimir en la terminal algo parecido a lo siguiente.\n",
        "La playera es talla \"Grande\" y el texto a cerigrafear es: \"Hola amigos\""
      ]
    },
    {
      "cell_type": "code",
      "metadata": {
        "id": "tr7TfI0biTcT",
        "outputId": "d11119c5-6c38-4a7b-b1de-6b408a391cb7",
        "colab": {
          "base_uri": "https://localhost:8080/",
          "height": 34
        }
      },
      "source": [
        "def hacerPlayera(tamanio, texto):\n",
        "  print(\"La playera es talla '\" + tamanio + \"' y el texto a cerigrafear es: '\"+ texto + \"'\")\n",
        "\n",
        "hacerPlayera(tamanio=\"mediana\", texto=\"Quedate en casa\")"
      ],
      "execution_count": null,
      "outputs": [
        {
          "output_type": "stream",
          "text": [
            "La playera es talla 'mediana' y el texto a cerigrafear es: 'Quedate en casa'\n"
          ],
          "name": "stdout"
        }
      ]
    },
    {
      "cell_type": "markdown",
      "metadata": {
        "id": "X4vTlalJjGe6"
      },
      "source": [
        "**Playeras Grandes**\n",
        "\n",
        "Modique la función $\\verb|hacerPlayera()|$ de tal manera que las playeras grandes sean predeterminadas y el texto predefinido para la cerigrafear sea $\\verb|yo <3 Python|$.\n",
        "\n",
        "Para verificar el correcto funcionamiento del módulo:\n",
        "* Genere una playera grande utlizando el texto predeterminado.\n",
        "* Genere una playera mediana con el texto predeterminado.\n",
        "* Genere una playera de talla distinta a grande con un texto distinto al predeterminado.\n",
        "\n"
      ]
    },
    {
      "cell_type": "code",
      "metadata": {
        "id": "xsS_e28BjXoG",
        "outputId": "4a557b0c-ecb3-4b33-c4c1-4b2f776e44e8",
        "colab": {
          "base_uri": "https://localhost:8080/",
          "height": 68
        }
      },
      "source": [
        "def hacerPlayera(tamanio=\"Grande\", texto=\"yo <3 python\"):\n",
        "  print(\"La playera es talla '\" + tamanio + \"' y el texto a cerigrafear es: '\"+ texto + \"'\")\n",
        "\n",
        "hacerPlayera()\n",
        "hacerPlayera(tamanio=\"mediana\")\n",
        "hacerPlayera(tamanio=\"chica\", texto=\"yo <3 C++\")"
      ],
      "execution_count": null,
      "outputs": [
        {
          "output_type": "stream",
          "text": [
            "La playera es talla 'Grande' y el texto a cerigrafear es: 'yo <3 python'\n",
            "La playera es talla 'mediana' y el texto a cerigrafear es: 'yo <3 python'\n",
            "La playera es talla 'chica' y el texto a cerigrafear es: 'yo <3 C++'\n"
          ],
          "name": "stdout"
        }
      ]
    },
    {
      "cell_type": "markdown",
      "metadata": {
        "id": "yHFPWIo_kLHp"
      },
      "source": [
        "**Paises y ciudades**\n",
        "\n",
        "Escriba una función llamada $\\verb|descripcionCiudad()|$ que acepte como argumentos el nombre de una ciudad y el nombre de un país y que imprima en la terminal un texto como: Xalapa está en México, Río de Janeiro está en Brazil, París está en Fracia. Ponga como valor predeterminado \"México\" a la variable país, y llame a la función tres veces donde por lo menos una ciudad no pertenezca al país México."
      ]
    },
    {
      "cell_type": "code",
      "metadata": {
        "id": "cde4BVT5kexR",
        "outputId": "07af4653-b7a5-496c-9a2d-9768a187bc83",
        "colab": {
          "base_uri": "https://localhost:8080/",
          "height": 68
        }
      },
      "source": [
        "def descripcionCiudad(nombre_ciudad,nombre_pais=\"México\"):\n",
        "  print(nombre_ciudad + \" está en \" + nombre_pais)\n",
        "\n",
        "descripcionCiudad(\"Puebla\")\n",
        "descripcionCiudad(\"Campeche\")\n",
        "descripcionCiudad(\"Boom\")\n"
      ],
      "execution_count": null,
      "outputs": [
        {
          "output_type": "stream",
          "text": [
            "Puebla está en México\n",
            "Campeche está en México\n",
            "Boom está en México\n"
          ],
          "name": "stdout"
        }
      ]
    },
    {
      "cell_type": "markdown",
      "metadata": {
        "id": "dFdxPRimlgDe"
      },
      "source": [
        "* Hacer un módulo con las funciones básicas para una calculadora, suma, resta, producto y división, en la función de división si el denomidador es igual a cero debe de volver a leer el valor del denominador hasta que sea distinto de cero (se recomienda utilizar el ciclo while y el condicional if)\n"
      ]
    },
    {
      "cell_type": "code",
      "metadata": {
        "id": "VKF5dFH2l4sS",
        "outputId": "c54092dc-9a89-4134-aafb-23410640fe20",
        "colab": {
          "base_uri": "https://localhost:8080/"
        }
      },
      "source": [
        "from Calculadora import *\n",
        "\"Menu\"\n",
        "print(\"1. Sumar\\n\"+\"2. restar\\n\"+\"3. producto\\n\"+\"4. Division\\n\")\n",
        "opc=int(input(\"Opc.: \"))\n",
        "if opc==1:\n",
        "  a=int(input(\"a = \"))\n",
        "  b=int(input(\"b = \"))\n",
        "  print(suma(a,b))\n",
        "elif opc==2:\n",
        "    a=int(input(\"a = \"))\n",
        "    b=int(input(\"b = \"))\n",
        "    print(resta(a,b))\n",
        "elif opc==3:\n",
        "    a=int(input(\"a = \"))\n",
        "    b=int(input(\"b = \"))\n",
        "    print(producto(a,b))\n",
        "elif opc==4:\n",
        "    a=int(input(\"a = \"))\n",
        "    b=int(input(\"b = \"))\n",
        "    print(division(a,b))"
      ],
      "execution_count": null,
      "outputs": [
        {
          "output_type": "stream",
          "text": [
            "1. Sumar\n",
            "2. restar\n",
            "3. producto\n",
            "4. Division\n",
            "\n",
            "Opc.: 4\n",
            "a = 1\n",
            "b = 0\n",
            "Valor incorrecto\n",
            "None\n"
          ],
          "name": "stdout"
        }
      ]
    },
    {
      "cell_type": "markdown",
      "metadata": {
        "id": "WKtJLOnGbtVi"
      },
      "source": [
        "El modulo \"Calculadora\" se modifico conforme a lo indicado por el profesor, se hicieron numerosas pruebas de funcionamiento en la plataforma \"spyder\" y el programa corrió perfectamente, sin embargo, al momento de probar su funcionamiento en Colab, el resultado no fue el esperado. Colab unicamente imprime que el valor es incorrecto y no vuelve a solicitar ningun valor.\n",
        " "
      ]
    },
    {
      "cell_type": "markdown",
      "metadata": {
        "id": "d2njHX11l4_F"
      },
      "source": [
        "* Hacer una función que el usuario introduzca un número y la función debe de desplegar un triángulo de sumas, Como ejemplo, si el usuario manda a la función 4 debeía imprimir el siguiente arreglo\n",
        "* +\n",
        "* ++\n",
        "* +++\n",
        "* ++++"
      ]
    },
    {
      "cell_type": "code",
      "metadata": {
        "id": "YXtU2yhuKGG3",
        "outputId": "aeb504b2-417a-4bd6-bba0-ca96eeae7234",
        "colab": {
          "base_uri": "https://localhost:8080/",
          "height": 119
        }
      },
      "source": [
        "def triangulo(a):\n",
        "  for i in range(1,a+1,1):\n",
        "    for j in range(1,a+1,1):\n",
        "      if j<=i:\n",
        "        print(\"+\",end=\"\")\n",
        "      else:\n",
        "        print(\" \", end=\"\")\n",
        "    print(\"\")\n",
        "\n",
        "n=int(input(\"altura = \"))\n",
        "triangulo(n)"
      ],
      "execution_count": null,
      "outputs": [
        {
          "output_type": "stream",
          "text": [
            "altura = 5\n",
            "+    \n",
            "++   \n",
            "+++  \n",
            "++++ \n",
            "+++++\n"
          ],
          "name": "stdout"
        }
      ]
    }
  ]
}