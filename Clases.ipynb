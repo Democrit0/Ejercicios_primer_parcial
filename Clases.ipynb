{
  "nbformat": 4,
  "nbformat_minor": 0,
  "metadata": {
    "colab": {
      "name": "Clases.ipynb",
      "provenance": [],
      "collapsed_sections": [],
      "toc_visible": true,
      "authorship_tag": "ABX9TyPATRehw/C3IUD6iHSdRcLf",
      "include_colab_link": true
    },
    "kernelspec": {
      "name": "python3",
      "display_name": "Python 3"
    }
  },
  "cells": [
    {
      "cell_type": "markdown",
      "metadata": {
        "id": "view-in-github",
        "colab_type": "text"
      },
      "source": [
        "<a href=\"https://colab.research.google.com/github/Democrit0/Ejercicios_primer_parcial/blob/main/Clases.ipynb\" target=\"_parent\"><img src=\"https://colab.research.google.com/assets/colab-badge.svg\" alt=\"Open In Colab\"/></a>"
      ]
    },
    {
      "cell_type": "markdown",
      "metadata": {
        "id": "AitcoogJtMsq"
      },
      "source": [
        "# Ejercicios\n",
        "\n",
        "**Restaurante:**\n",
        "\n",
        "*   Crear una clase llamada Restaurant. El método __init__() debe de aceptar dos atributos: El nombre_restaurant y el tipo_cocina.\n",
        "*   Crear un método que se llame describe_restaurant que imprima: El nombre del restaurant es: ------ y El tipo de comida que se sirve es: -----. \n",
        "* Generar"
      ]
    },
    {
      "cell_type": "code",
      "metadata": {
        "id": "DT_RgKittLFa"
      },
      "source": [
        "class Restaurant():\n",
        "\n",
        "  def __init__(self,nombre_restaurant, tipo_cocina):\n",
        "    self.nombre_restaurant = nombre_restaurant\n",
        "    self.tipo_cocina = tipo_cocina\n",
        "\n",
        "  def describe_restaurant(self):\n",
        "    print(\"El nombre del restaurant es: \", self.nombre_restaurant)\n",
        "    print(\"El tipo de comida que se sirve es: \", self.tipo_cocina)"
      ],
      "execution_count": null,
      "outputs": []
    },
    {
      "cell_type": "markdown",
      "metadata": {
        "id": "dUYgktc0wA4K"
      },
      "source": [
        "**Tres Restaurantes:**\n",
        "\n",
        "Crear tres restaurantes utilizando la clase que se ha definido con anterioridad y llame al método describe_restaurant para cada instancia de la clase."
      ]
    },
    {
      "cell_type": "code",
      "metadata": {
        "id": "pwPBeAV1wUJL",
        "outputId": "35d205c8-db42-4fbf-f937-db326d252664",
        "colab": {
          "base_uri": "https://localhost:8080/",
          "height": 170
        }
      },
      "source": [
        "restaurante = Restaurant(\"TacoBell\", \"Texmex\")\n",
        "print(restaurante.nombre_restaurant)\n",
        "print(restaurante.tipo_cocina)\n",
        "print()\n",
        "\n",
        "restaurante = Restaurant(\"Toks\", \"Mexicana\")\n",
        "print(restaurante.nombre_restaurant)\n",
        "print(restaurante.tipo_cocina)\n",
        "print()\n",
        "\n",
        "restaurante = Restaurant(\"SushiRoll\", \"Japonesa\")\n",
        "print(restaurante.nombre_restaurant)\n",
        "print(restaurante.tipo_cocina)\n",
        "print()"
      ],
      "execution_count": null,
      "outputs": [
        {
          "output_type": "stream",
          "text": [
            "TacoBell\n",
            "Texmex\n",
            "\n",
            "Toks\n",
            "Mexicana\n",
            "\n",
            "SushiRoll\n",
            "Japonesa\n",
            "\n"
          ],
          "name": "stdout"
        }
      ]
    },
    {
      "cell_type": "markdown",
      "metadata": {
        "id": "YHC7Gtd0yU8K"
      },
      "source": [
        "**Usuarios:**\n",
        "\n",
        "* Cree una clase que se llame Usuario. \n",
        "* Cree dos atributos llamados Nombre y Apellido, agregue atributos como CURP, Fecha_Nacimiento, Sexo, Grado_estudios. \n",
        "* Genere un método llamado Saluda_usuario y que despliegue en pantalla algo como \"Hola Juan Ruiz de Alarcón.\" \n",
        "* Genere un método que se llame Describe_usuario y que muestre toda la información del usuario. \n",
        "* Genere 5 objetos tipo usuario y ejecute los dos métodos anteriormente descritos."
      ]
    },
    {
      "cell_type": "code",
      "metadata": {
        "id": "TQ6Oaz9Q-qYv",
        "outputId": "c635a216-5dd3-4ba3-c135-1e3cbad55cb9",
        "colab": {
          "base_uri": "https://localhost:8080/"
        }
      },
      "source": [
        "class Usuario():\n",
        "  def __init__(self,Nombre, Apellido):\n",
        "    self.Nombre = Nombre\n",
        "    self.Apellido= Apellido\n",
        "    self.CURP = \"GOMR970807HDFNLM05\"\n",
        "    self.Fecha_Nacimiento = \"07-08-1997\"\n",
        "    self.Sexo = \"Masculino\"\n",
        "    self.Grado_estudios = \"superior\"\n",
        "\n",
        "  def Saluda_usuario(self):\n",
        "    print(\"Hola \", self.Nombre +\" \"+ self.Apellido)\n",
        "    \n",
        "  def Describe_usuario(self):\n",
        "    print(self.CURP + \" \" + self.Fecha_Nacimiento + \" \" + self.Sexo + \" \" + self.Grado_estudios)\n",
        "\n",
        "mi_amigo = Usuario(\"Alejandro\",\"Gonzalez\")\n",
        "mi_amigo.Saluda_usuario()\n",
        "mi_amigo.Describe_usuario()"
      ],
      "execution_count": null,
      "outputs": [
        {
          "output_type": "stream",
          "text": [
            "Hola  Alejandro Gonzalez\n",
            "GOMR970807HDFNLM05 07-08-1997 Masculino superior\n"
          ],
          "name": "stdout"
        }
      ]
    },
    {
      "cell_type": "markdown",
      "metadata": {
        "id": "2ugAG9xZN0a1"
      },
      "source": [
        "**Clientes atendidos**\n",
        "\n",
        "Retomar la clase de Restaurante que se generó a lo largo de este notebook y agregar un atributo que diga clientes_atendidos y agregar dos métodos:\n",
        "\n",
        "* Clientes_Atendidos(self,numero): que pueda modificar el número de clientes 2. Aumenta_Clientes(self,numero): que pueda aumentar el número de clientes que se han atendido"
      ]
    },
    {
      "cell_type": "code",
      "metadata": {
        "id": "9Wq8kWVwOoe2",
        "outputId": "79fcf8a2-0d55-4dba-faae-15aa677b2237",
        "colab": {
          "base_uri": "https://localhost:8080/"
        }
      },
      "source": [
        "class Restaurant():\n",
        "\n",
        "  def __init__(self,nombre_restaurant, tipo_cocina):\n",
        "    self.nombre_restaurant = nombre_restaurant\n",
        "    self.tipo_cocina = tipo_cocina\n",
        "    self.clientes_atendidos=0\n",
        "\n",
        "  def describe_restaurant(self):\n",
        "    print(\"\\nEl nombre del restaurant es: \", self.nombre_restaurant)\n",
        "    print(\"\\nEl tipo de comida que se sirve es: \", self.tipo_cocina)\n",
        "\n",
        "  def Clientes_Atendidos(self, numero):\n",
        "    if numero>=0:\n",
        "      self.clientes_atendidos += numero\n",
        "    else:\n",
        "      print(\"Numero incorrecto\")\n",
        "\n",
        "  def Aumenta_Clientes(self, numero):\n",
        "    if numero>=0:\n",
        "      self.clientes_atendidos += numero\n",
        "    else:\n",
        "      print(\"Numero invalido\")\n",
        "\n",
        "  def Muestra_Clientes(self):\n",
        "    print(self.clientes_atendidos)\n",
        "\n",
        "aumento = Restaurant(nombre_restaurant=\"kaligula\", tipo_cocina=\"Tai\")\n",
        "aumento.Clientes_Atendidos(6)\n",
        "aumento.Aumenta_Clientes(int(input(\"Clientes nuevos atendidos: \")))\n",
        "aumento.Muestra_Clientes()"
      ],
      "execution_count": 18,
      "outputs": [
        {
          "output_type": "stream",
          "text": [
            "Clientes nuevos atendidos: 2\n",
            "8\n"
          ],
          "name": "stdout"
        }
      ]
    },
    {
      "cell_type": "markdown",
      "metadata": {
        "id": "AFkNuIFZV2qB"
      },
      "source": [
        "**Control de acceso**\n",
        "\n",
        "Completar el código de la siguiente celda, que crea una clase Usuario, donde el constructor debe de aceptar el nombre de usuario y la contraseña, cuando se invoque el método ingresar debe de pedir la contraseña del usuario, si la contraseña es correcta, debe de imprimir Bienvenido a su cuenta, si la contraseña se ingresa incorrectamente 3 veces debe de imprimir Cuenta bloqueada, intente más tarde y debe de reiniciar la varialbe self.intentosAcceso a cero."
      ]
    },
    {
      "cell_type": "code",
      "metadata": {
        "id": "ZZl5HyffWUyj",
        "outputId": "37fe2de2-9637-44d5-b96b-2d971d73ab3c",
        "colab": {
          "base_uri": "https://localhost:8080/"
        }
      },
      "source": [
        "class User():\n",
        "    def __init__(self,Nickname,password):\n",
        "        self.nombre_usuario = Nickname\n",
        "        self.password = password\n",
        "        self.intentosAcceso = 0\n",
        "        \n",
        "    def ingresar(self):\n",
        "        while self.intentosAcceso!=3:\n",
        "            cont = input(\"Ingrese su contraseña: \")\n",
        "            if cont==self.password:\n",
        "                print(\"Bienvenido a su cuenta\")\n",
        "                break\n",
        "            else:\n",
        "                print(\"Contraseña incorrecta\")\n",
        "                self.intentosAcceso += 1\n",
        "        if self.intentosAcceso==3:\n",
        "            print(\"Cuenta bloqueada, intente más tarde\")\n",
        "        self.intentosAcceso = 0\n",
        "\n",
        "user1 = User('Juan','juan1234')\n",
        "user1.ingresar()"
      ],
      "execution_count": 16,
      "outputs": [
        {
          "output_type": "stream",
          "text": [
            "Ingrese su contraseña: Juan1234\n",
            "Contraseña incorrecta\n",
            "Ingrese su contraseña: juan123\n",
            "Contraseña incorrecta\n",
            "Ingrese su contraseña: juan1235\n",
            "Contraseña incorrecta\n",
            "Cuenta bloqueada, intente más tarde\n"
          ],
          "name": "stdout"
        }
      ]
    },
    {
      "cell_type": "markdown",
      "metadata": {
        "id": "3oueUg8qfjlE"
      },
      "source": [
        "**Heladería**\n",
        "\n",
        "Una heladería se puede ver como un tipo específico de restaurante. Cree una clase que se llame Heladeria que herede de la clase Restaurante que se ha desarrollado en los ejercicios anteriores. Cree un atributo que se llame sabores que debe de ser una lista (estructura de datos). Agregar un método a la clase Heladeria que muestre los sabores que tiene."
      ]
    },
    {
      "cell_type": "code",
      "metadata": {
        "id": "5G8vpgQNf0Gz",
        "outputId": "920882a3-d0de-41a2-ebef-0b1bbdf677f9",
        "colab": {
          "base_uri": "https://localhost:8080/"
        }
      },
      "source": [
        "class Heladeria(Restaurant):\n",
        "  def __init__(self,nombre_restaurant, tipo_cocina):\n",
        "    super().__init__(nombre_restaurant, tipo_cocina)\n",
        "    self.sabores=[\"Maracuya\", \"Cookies & Cream\", \"Vainilla\"]\n",
        "\n",
        "  def Menu(self):\n",
        "    print(\"\\nEl menu es: \")\n",
        "    for i in self.sabores:\n",
        "      print(i)\n",
        "\n",
        "Helado = Heladeria(\"La michoacana\", \"Helados\")\n",
        "Helado.describe_restaurant()\n",
        "Helado.Menu()"
      ],
      "execution_count": 20,
      "outputs": [
        {
          "output_type": "stream",
          "text": [
            "\n",
            "El nombre del restaurant es:  La michoacana\n",
            "\n",
            "El tipo de comida que se sirve es:  Helados\n",
            "\n",
            "El menu es: \n",
            "Maracuya\n",
            "Cookies & Cream\n",
            "Vainilla\n"
          ],
          "name": "stdout"
        }
      ]
    }
  ]
}